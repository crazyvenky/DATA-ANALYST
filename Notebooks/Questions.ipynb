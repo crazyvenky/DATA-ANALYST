{
 "cells": [
  {
   "cell_type": "markdown",
   "id": "8bab2db5",
   "metadata": {},
   "source": [
    "# Questions Page\n",
    "<a href=\"#ANSWERS\">ANSWERS HERE</a>"
   ]
  },
  {
   "cell_type": "markdown",
   "id": "f3e31f26",
   "metadata": {},
   "source": [
    "1. In your role as a data professional, you examine a dataset of taxi rides to determine which hour of the day typically has the highest demand. Under which discipline does this example best fall?\n",
    "\n",
    "    a) Data analysis\n",
    "\n",
    "    b) Data science\n",
    "\n",
    "    c) Data wrangling\n",
    "\n",
    "    d) Data analytics"
   ]
  },
  {
   "cell_type": "markdown",
   "id": "d9c91370",
   "metadata": {},
   "source": [
    "2. Fill in the blank: A _____ encompasses the various elements that interact with one another in order to produce, manage, store, organize, analyze, and share data.\n",
    "\n",
    "   a) cloud system\n",
    "\n",
    "   b) business transformation\n",
    "\n",
    "   c) data ecosystem\n",
    "\n",
    "   d) data source\n"
   ]
  },
  {
   "cell_type": "markdown",
   "id": "726309a4",
   "metadata": {},
   "source": [
    "3. When building data into business strategy, why is it important to include insights from subject-matter experts? Select all that apply.\n",
    "\n",
    "   a) They are familiar with the business problem.\n",
    "\n",
    "   b) They can review analysis results and help identify inconsistencies.\n",
    "\n",
    "   c) Their experience and human intuition are valuable to data-driven decision-making.\n",
    "\n",
    "   d) They are responsible for finding and analyzing data to uncover trends, patterns, and relationships.\n"
   ]
  },
  {
   "cell_type": "markdown",
   "id": "ac22ffcb",
   "metadata": {},
   "source": [
    "4. An e-commerce website collects, observes, and analyzes its customers' online behaviors. Then, it uses the insights gained to choose when to put certain products on sale. What business practice does this describe?\n",
    "\n",
    "   a) Analytical thinking\n",
    "\n",
    "   b) Organizing data\n",
    "\n",
    "   c) Data-driven decision-making\n",
    "\n",
    "   d) Performance measurement\n"
   ]
  },
  {
   "cell_type": "markdown",
   "id": "0e6e3ce1",
   "metadata": {},
   "source": []
  },
  {
   "cell_type": "markdown",
   "id": "53cfb1bb",
   "metadata": {},
   "source": []
  },
  {
   "cell_type": "markdown",
   "id": "605f91a8",
   "metadata": {},
   "source": []
  },
  {
   "cell_type": "markdown",
   "id": "f4983d71",
   "metadata": {},
   "source": []
  },
  {
   "cell_type": "markdown",
   "id": "da92c49b",
   "metadata": {},
   "source": []
  },
  {
   "cell_type": "markdown",
   "id": "7ecdd541",
   "metadata": {},
   "source": []
  },
  {
   "cell_type": "markdown",
   "id": "aa0322f2",
   "metadata": {},
   "source": []
  },
  {
   "cell_type": "markdown",
   "id": "7cffc91a",
   "metadata": {},
   "source": []
  },
  {
   "cell_type": "markdown",
   "id": "bfe9e7cd",
   "metadata": {},
   "source": []
  },
  {
   "cell_type": "markdown",
   "id": "c5c4ae1e",
   "metadata": {},
   "source": []
  },
  {
   "cell_type": "markdown",
   "id": "178db11a",
   "metadata": {},
   "source": []
  },
  {
   "cell_type": "markdown",
   "id": "75a6ba0e",
   "metadata": {},
   "source": []
  },
  {
   "cell_type": "markdown",
   "id": "9c53924a",
   "metadata": {},
   "source": []
  },
  {
   "cell_type": "markdown",
   "id": "767560a0",
   "metadata": {},
   "source": []
  },
  {
   "cell_type": "markdown",
   "id": "08d18ec9",
   "metadata": {},
   "source": []
  },
  {
   "cell_type": "markdown",
   "id": "d3a7a30b",
   "metadata": {},
   "source": [
    "<a id=\"ANSWERS\"></a>\n",
    "# ANSWERS"
   ]
  },
  {
   "cell_type": "markdown",
   "id": "7865c70c",
   "metadata": {},
   "source": [
    "[1 a] [2 c] [3 b,c,d] [4 b]"
   ]
  },
  {
   "cell_type": "code",
   "execution_count": null,
   "id": "daaa5c7e",
   "metadata": {},
   "outputs": [],
   "source": []
  }
 ],
 "metadata": {
  "kernelspec": {
   "display_name": "Python 3 (ipykernel)",
   "language": "python",
   "name": "python3"
  },
  "language_info": {
   "codemirror_mode": {
    "name": "ipython",
    "version": 3
   },
   "file_extension": ".py",
   "mimetype": "text/x-python",
   "name": "python",
   "nbconvert_exporter": "python",
   "pygments_lexer": "ipython3",
   "version": "3.9.12"
  }
 },
 "nbformat": 4,
 "nbformat_minor": 5
}
